{
  "nbformat": 4,
  "nbformat_minor": 0,
  "metadata": {
    "colab": {
      "provenance": [],
      "authorship_tag": "ABX9TyNueg9IH+e8VinkgeGWttTq",
      "include_colab_link": true
    },
    "kernelspec": {
      "name": "python3",
      "display_name": "Python 3"
    },
    "language_info": {
      "name": "python"
    }
  },
  "cells": [
    {
      "cell_type": "markdown",
      "metadata": {
        "id": "view-in-github",
        "colab_type": "text"
      },
      "source": [
        "<a href=\"https://colab.research.google.com/github/luongdiem2005/movie-ratings-analysis/blob/main/p3.ipynb\" target=\"_parent\"><img src=\"https://colab.research.google.com/assets/colab-badge.svg\" alt=\"Open In Colab\"/></a>"
      ]
    },
    {
      "cell_type": "code",
      "execution_count": 4,
      "metadata": {
        "colab": {
          "base_uri": "https://localhost:8080/"
        },
        "id": "L87ouk_qyFjd",
        "outputId": "23582cc4-61c0-40e5-8aff-4e8ebbbe2529"
      },
      "outputs": [
        {
          "output_type": "stream",
          "name": "stdout",
          "text": [
            "Drive already mounted at /content/drive; to attempt to forcibly remount, call drive.mount(\"/content/drive\", force_remount=True).\n",
            "\n",
            "Missing values of movies.csv: \n",
            "movieId    0\n",
            "title      0\n",
            "genres     0\n",
            "dtype: int64\n",
            "\n",
            "Missing values of ratings.csv: \n",
            "userId       0\n",
            "movieId      0\n",
            "rating       0\n",
            "timestamp    0\n",
            "dtype: int64\n",
            "\n",
            "Number of movies lines before remove duplicates:  9742\n",
            "Number of movies lines after remove duplicates:  9742\n",
            "Number of ratings lines before remove duplicates:  100836\n",
            "Number of ratings lines after remove duplicates:  100836\n",
            "\n",
            "Ratings information after standardization: \n",
            "<class 'pandas.core.frame.DataFrame'>\n",
            "RangeIndex: 100836 entries, 0 to 100835\n",
            "Data columns (total 4 columns):\n",
            " #   Column     Non-Null Count   Dtype  \n",
            "---  ------     --------------   -----  \n",
            " 0   userId     100836 non-null  int64  \n",
            " 1   movieId    100836 non-null  int64  \n",
            " 2   rating     100836 non-null  float64\n",
            " 3   timestamp  100836 non-null  int64  \n",
            "dtypes: float64(1), int64(3)\n",
            "memory usage: 3.1 MB\n",
            "None\n",
            "\n",
            "Ratings information after standardization: \n",
            "<class 'pandas.core.frame.DataFrame'>\n",
            "RangeIndex: 100836 entries, 0 to 100835\n",
            "Data columns (total 4 columns):\n",
            " #   Column     Non-Null Count   Dtype         \n",
            "---  ------     --------------   -----         \n",
            " 0   userId     100836 non-null  int64         \n",
            " 1   movieId    100836 non-null  int64         \n",
            " 2   rating     100836 non-null  float64       \n",
            " 3   timestamp  100836 non-null  datetime64[ns]\n",
            "dtypes: datetime64[ns](1), float64(1), int64(2)\n",
            "memory usage: 3.1 MB\n",
            "None\n"
          ]
        }
      ],
      "source": [
        "from google.colab import drive\n",
        "drive.mount('/content/drive')\n",
        "\n",
        "import pandas as pd\n",
        "base = \"/content/drive/MyDrive/projects/movie-ratings-analysis\"\n",
        "movies = pd.read_csv(f\"{base}/data/movies.csv\")\n",
        "ratings = pd.read_csv(f\"{base}/data/ratings.csv\")\n",
        "# Checking missing values\n",
        "print(\"\\nMissing values of movies.csv: \")\n",
        "print(movies.isnull().sum())\n",
        "print(\"\\nMissing values of ratings.csv: \")\n",
        "print(ratings.isnull().sum())\n",
        "movies = movies.dropna()\n",
        "ratings = ratings.dropna()\n",
        "# Checking duplicate values\n",
        "print(\"\\nNumber of movies lines before remove duplicates: \", movies.shape[0])\n",
        "movies = movies.drop_duplicates()\n",
        "print(\"Number of movies lines after remove duplicates: \", movies.shape[0])\n",
        "print(\"Number of ratings lines before remove duplicates: \", ratings.shape[0])\n",
        "ratings = ratings.drop_duplicates()\n",
        "print(\"Number of ratings lines after remove duplicates: \", ratings.shape[0])\n",
        "# Data type standardization\n",
        "print(\"\\nRatings information after standardization: \")\n",
        "print(ratings.info())\n",
        "ratings['timestamp'] = pd.to_datetime(ratings['timestamp'], unit='s')\n",
        "print(\"\\nRatings information after standardization: \")\n",
        "print(ratings.info())\n",
        "# Saving cleaned data\n",
        "movies.to_csv(f\"{base}/data/clean_movies.csv\", index=False)\n",
        "ratings.to_csv(f\"{base}/data/clean_ratings.csv\", index=False)\n",
        "\n",
        "\n"
      ]
    }
  ]
}